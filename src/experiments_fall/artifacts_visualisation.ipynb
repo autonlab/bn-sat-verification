{
 "cells": [
  {
   "cell_type": "code",
   "execution_count": 1,
   "metadata": {},
   "outputs": [
    {
     "name": "stdout",
     "output_type": "stream",
     "text": [
      "filedir: /home/ignacy/cmu/bnc-formal-verification/src/experiments_fall\n",
      "DATASET_PATH: /home/ignacy/cmu/bnc-formal-verification/src/experiments_fall/data/credit10k.csv\n",
      "MODEL_NET_PATH: /home/ignacy/cmu/bnc-formal-verification/src/experiments_fall/models\n",
      "ARTIFACTS_PATH: /home/ignacy/cmu/bnc-formal-verification/src/experiments_fall/credit10k_artifacts\n",
      "RULES_PATH: /home/ignacy/cmu/bnc-formal-verification/src/experiments_fall/rules_credit10k.json\n"
     ]
    }
   ],
   "source": [
    "import os\n",
    "import json\n",
    "import pgmpy\n",
    "from pgmpy.readwrite import NETReader\n",
    "import pandas as pd\n",
    "import numpy as np\n",
    "import matplotlib.pyplot as plt\n",
    "import networkx as nx\n",
    "import seaborn as sns\n",
    "\n",
    "filedir = os.path.join(os.getcwd())\n",
    "DATASET_NAME = 'credit10k'\n",
    "TARGET_COL = 'CreditWorthiness'\n",
    "\n",
    "MODEL_NET_PATH = os.path.join(filedir, 'models')\n",
    "ARTIFACTS_PATH = os.path.join(filedir, f'{DATASET_NAME}_artifacts')\n",
    "DATASET_FILEPATH = os.path.join(filedir, 'data', f'{DATASET_NAME}.csv')\n",
    "RULES_FILEPATH = os.path.join(filedir, f'rules_{DATASET_NAME}.json')\n",
    "\n",
    "print(f'filedir: {filedir}')\n",
    "print(f'DATASET_PATH: {DATASET_FILEPATH}')\n",
    "print(f'MODEL_NET_PATH: {MODEL_NET_PATH}')\n",
    "print(f'ARTIFACTS_PATH: {ARTIFACTS_PATH}')\n",
    "print(f'RULES_PATH: {RULES_FILEPATH}')"
   ]
  },
  {
   "cell_type": "code",
   "execution_count": 2,
   "metadata": {},
   "outputs": [
    {
     "data": {
      "text/html": [
       "<div>\n",
       "<style scoped>\n",
       "    .dataframe tbody tr th:only-of-type {\n",
       "        vertical-align: middle;\n",
       "    }\n",
       "\n",
       "    .dataframe tbody tr th {\n",
       "        vertical-align: top;\n",
       "    }\n",
       "\n",
       "    .dataframe thead th {\n",
       "        text-align: right;\n",
       "    }\n",
       "</style>\n",
       "<table border=\"1\" class=\"dataframe\">\n",
       "  <thead>\n",
       "    <tr style=\"text-align: right;\">\n",
       "      <th></th>\n",
       "      <th>PaymentHistory</th>\n",
       "      <th>WorkHistory</th>\n",
       "      <th>Reliability</th>\n",
       "      <th>Debit</th>\n",
       "      <th>Income</th>\n",
       "      <th>RatioDebInc</th>\n",
       "      <th>Assets</th>\n",
       "      <th>Worth</th>\n",
       "      <th>Profession</th>\n",
       "      <th>FutureIncome</th>\n",
       "      <th>Age</th>\n",
       "      <th>CreditWorthiness</th>\n",
       "    </tr>\n",
       "  </thead>\n",
       "  <tbody>\n",
       "    <tr>\n",
       "      <th>0</th>\n",
       "      <td>Without_Reference</td>\n",
       "      <td>Unstable</td>\n",
       "      <td>Unreliable</td>\n",
       "      <td>a0_11100</td>\n",
       "      <td>s70001_more</td>\n",
       "      <td>Favorable</td>\n",
       "      <td>wealthy</td>\n",
       "      <td>High</td>\n",
       "      <td>Medium_income_profession</td>\n",
       "      <td>Promissing</td>\n",
       "      <td>a16_21</td>\n",
       "      <td>Negative</td>\n",
       "    </tr>\n",
       "    <tr>\n",
       "      <th>1</th>\n",
       "      <td>Aceptable</td>\n",
       "      <td>Unjustified_no_work</td>\n",
       "      <td>Unreliable</td>\n",
       "      <td>a0_11100</td>\n",
       "      <td>s70001_more</td>\n",
       "      <td>Favorable</td>\n",
       "      <td>average</td>\n",
       "      <td>High</td>\n",
       "      <td>Medium_income_profession</td>\n",
       "      <td>Promissing</td>\n",
       "      <td>a66_up</td>\n",
       "      <td>Negative</td>\n",
       "    </tr>\n",
       "    <tr>\n",
       "      <th>2</th>\n",
       "      <td>Aceptable</td>\n",
       "      <td>Unstable</td>\n",
       "      <td>Reliable</td>\n",
       "      <td>a25901_more</td>\n",
       "      <td>s30001_70000</td>\n",
       "      <td>Unfavorable</td>\n",
       "      <td>wealthy</td>\n",
       "      <td>High</td>\n",
       "      <td>Low_income_profession</td>\n",
       "      <td>Not_promissing</td>\n",
       "      <td>a16_21</td>\n",
       "      <td>Negative</td>\n",
       "    </tr>\n",
       "    <tr>\n",
       "      <th>3</th>\n",
       "      <td>Excellent</td>\n",
       "      <td>Unstable</td>\n",
       "      <td>Reliable</td>\n",
       "      <td>a25901_more</td>\n",
       "      <td>s30001_70000</td>\n",
       "      <td>Unfavorable</td>\n",
       "      <td>average</td>\n",
       "      <td>Medium</td>\n",
       "      <td>Medium_income_profession</td>\n",
       "      <td>Not_promissing</td>\n",
       "      <td>a16_21</td>\n",
       "      <td>Negative</td>\n",
       "    </tr>\n",
       "    <tr>\n",
       "      <th>4</th>\n",
       "      <td>Excellent</td>\n",
       "      <td>Unjustified_no_work</td>\n",
       "      <td>Unreliable</td>\n",
       "      <td>a11101_25900</td>\n",
       "      <td>s0_30000</td>\n",
       "      <td>Unfavorable</td>\n",
       "      <td>average</td>\n",
       "      <td>Low</td>\n",
       "      <td>Medium_income_profession</td>\n",
       "      <td>Not_promissing</td>\n",
       "      <td>a66_up</td>\n",
       "      <td>Negative</td>\n",
       "    </tr>\n",
       "  </tbody>\n",
       "</table>\n",
       "</div>"
      ],
      "text/plain": [
       "      PaymentHistory          WorkHistory Reliability         Debit  \\\n",
       "0  Without_Reference             Unstable  Unreliable      a0_11100   \n",
       "1          Aceptable  Unjustified_no_work  Unreliable      a0_11100   \n",
       "2          Aceptable             Unstable    Reliable   a25901_more   \n",
       "3          Excellent             Unstable    Reliable   a25901_more   \n",
       "4          Excellent  Unjustified_no_work  Unreliable  a11101_25900   \n",
       "\n",
       "         Income  RatioDebInc   Assets   Worth                Profession  \\\n",
       "0   s70001_more    Favorable  wealthy    High  Medium_income_profession   \n",
       "1   s70001_more    Favorable  average    High  Medium_income_profession   \n",
       "2  s30001_70000  Unfavorable  wealthy    High     Low_income_profession   \n",
       "3  s30001_70000  Unfavorable  average  Medium  Medium_income_profession   \n",
       "4      s0_30000  Unfavorable  average     Low  Medium_income_profession   \n",
       "\n",
       "     FutureIncome     Age CreditWorthiness  \n",
       "0      Promissing  a16_21         Negative  \n",
       "1      Promissing  a66_up         Negative  \n",
       "2  Not_promissing  a16_21         Negative  \n",
       "3  Not_promissing  a16_21         Negative  \n",
       "4  Not_promissing  a66_up         Negative  "
      ]
     },
     "execution_count": 2,
     "metadata": {},
     "output_type": "execute_result"
    }
   ],
   "source": [
    "data = pd.read_csv(DATASET_FILEPATH)\n",
    "data.head()"
   ]
  },
  {
   "cell_type": "code",
   "execution_count": 3,
   "metadata": {},
   "outputs": [
    {
     "data": {
      "image/png": "[encoded data removed]",
      "text/plain": [
       "<Figure size 640x480 with 1 Axes>"
      ]
     },
     "metadata": {},
     "output_type": "display_data"
    },
    {
     "data": {
      "text/plain": [
       "<Figure size 1000x1000 with 0 Axes>"
      ]
     },
     "metadata": {},
     "output_type": "display_data"
    }
   ],
   "source": [
    "model = NETReader(path=os.path.join(MODEL_NET_PATH, f'{DATASET_NAME}.net')).get_model()\n",
    "\n",
    "# Plot the model\n",
    "G = nx.DiGraph()\n",
    "G.add_edges_from(model.edges())\n",
    "pos = nx.spring_layout(G)\n",
    "nx.draw(G, pos, with_labels=True, node_size=2000, node_color=\"skyblue\")\n",
    "plt.figure(figsize=(10, 10))\n",
    "plt.show()"
   ]
  },
  {
   "cell_type": "code",
   "execution_count": 4,
   "metadata": {},
   "outputs": [
    {
     "name": "stdout",
     "output_type": "stream",
     "text": [
      "Number of rules: 110\n"
     ]
    }
   ],
   "source": [
    "with open(RULES_FILEPATH) as f:\n",
    "    rules = json.load(f)\n",
    "    \n",
    "print(f'Number of rules: {len(rules)}')"
   ]
  },
  {
   "cell_type": "code",
   "execution_count": 5,
   "metadata": {},
   "outputs": [],
   "source": [
    "# LOAD ARTIFACTS IFTHEN Artifacts\n",
    "ifthen_results_dict = {}\n",
    "with open(os.path.join(ARTIFACTS_PATH, f'ifthen_{DATASET_NAME}.json')) as f:\n",
    "    ifthen_results_dict = json.load(f)\n"
   ]
  },
  {
   "cell_type": "code",
   "execution_count": 9,
   "metadata": {},
   "outputs": [],
   "source": [
    "def transform_mdd_names_back(variable_list: list[str]) -> list[str]:\n",
    "    transformed_list = []\n",
    "    variables = {}\n",
    "    \n",
    "    for var in variable_list:\n",
    "        if var.startswith('Node'):\n",
    "            name = var.split('_')[1]\n",
    "            index = int(var.split('_')[2])\n",
    "            \n",
    "            for var2 in variable_list:\n",
    "                if var2.startswith(f'x_{index}'):\n",
    "                    value = int(var2.split('=')[1].split('th')[0])\n",
    "                    \n",
    "                    transformed_list.append(f'{name}={value}')\n",
    "                    break\n",
    "    \n",
    "    return transformed_list\n",
    "    "
   ]
  },
  {
   "cell_type": "code",
   "execution_count": 10,
   "metadata": {},
   "outputs": [
    {
     "name": "stdout",
     "output_type": "stream",
     "text": [
      "Rule: [['FutureIncome', '<=', 0.0], ['Reliability', '<=', 0.0], ['RatioDebInc', '>', 0.0], ['Age', '>', 1.0], ['WorkHistory', '>', 0.0], ['Profession', '<=', 1.0], ['Assets', '>', 1.0], ['Income', '>', 1.0]]\n",
      "Outcome: 0\n",
      "Verification result: False\n",
      "True variables: ['Node_Age_1', 'Node_Reliability_18', 'edge_1_18_(1_2)', 'x_1 = 2th value', 'x_2 = 0th value', 'x_3 = 3th value', 'x_4 = 3th value', 'Node_Worth_6', 'x_5 = 0th value', 'Node_Profession_7', 'edge_6_7_(6_2)', 'x_6 = 2th value', 'Node_Income_8', 'edge_7_8_(7_1)', 'x_7 = 1th value', 'Node_Assets_9', 'edge_8_9_(8_2)', 'x_8 = 2th value', 'Node_RatioDebInc_10', 'edge_9_10_(9_2)', 'x_9 = 2th value', 'Node_Debit_11', 'edge_10_11_(10_1)', 'x_10 = 1th value', 'Node_TRUE_22', 'edge_11_22_(11_2)', 'x_11 = 2th value', 'Node_WorkHistory_19', 'edge_18_19_(18_0)', 'Node_PaymentHistory_20', 'edge_19_20_(19_3)', 'Node_FutureIncome_21', 'edge_20_21_(20_3)', 'edge_21_6_(21_0)']\n"
     ]
    }
   ],
   "source": [
    "idx = 65\n",
    "\n",
    "rule = rules[idx]['rule']\n",
    "outcome = rules[idx]['class']\n",
    "\n",
    "result = ifthen_results_dict[f'Verification case #IfThen#{idx}']\n",
    "\n",
    "print(f'Rule: {rule}')\n",
    "print(f'Outcome: {outcome}')\n",
    "print(f'Verification result: {result[\"is_SAT\"]}')\n",
    "print(f'True variables: {result[\"true_variables\"]}')"
   ]
  },
  {
   "cell_type": "code",
   "execution_count": 11,
   "metadata": {},
   "outputs": [
    {
     "data": {
      "text/plain": [
       "['Age=2',\n",
       " 'Worth=2',\n",
       " 'Profession=1',\n",
       " 'Income=2',\n",
       " 'Assets=2',\n",
       " 'RatioDebInc=1',\n",
       " 'Debit=2']"
      ]
     },
     "execution_count": 11,
     "metadata": {},
     "output_type": "execute_result"
    }
   ],
   "source": [
    "transform_mdd_names_back(result['true_variables'])"
   ]
  },
  {
   "cell_type": "code",
   "execution_count": null,
   "metadata": {},
   "outputs": [],
   "source": []
  }
 ],
 "metadata": {
  "kernelspec": {
   "display_name": "cmu",
   "language": "python",
   "name": "python3"
  },
  "language_info": {
   "codemirror_mode": {
    "name": "ipython",
    "version": 3
   },
   "file_extension": ".py",
   "mimetype": "text/x-python",
   "name": "python",
   "nbconvert_exporter": "python",
   "pygments_lexer": "ipython3",
   "version": "3.10.11"
  }
 },
 "nbformat": 4,
 "nbformat_minor": 2
}
